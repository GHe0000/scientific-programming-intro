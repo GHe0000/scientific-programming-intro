

















import numpy as np # 数值计算库
import numba as nb # 引入 jit 来加速函数（如果需要）
import sympy as sym # 符号计算库
import matplotlib.pyplot as plt # 图像绘制
import ipywidgets as ipw # 交互控件

# 使用 mathjax 来在 jupyter notebook 显示数学公式
sym.init_printing(use_latex='mathjax')

# 设置 matplotlib 绘制的图像嵌入到 jupyter notebook 的方式
get_ipython().run_line_magic("matplotlib", " widget")

# 设置 matplotlib 使用的字体，避免出现中文问题
plt.rcParams['font.sans-serif'] = ['SimHei']
plt.rcParams['axes.unicode_minus'] = False








def fn(x, n=20, y0=1):
    x = np.array(x, ndmin=1) # 保证至少是 1D 的 Array
    y = np.ones_like(x) * y0
    for i in range(n):
        y = np.sqrt(x+y)
    return y





fn(42)





def fn_track(x, n=20, y0=1):
    x = np.array(x, ndmin=1)
    n_arr = np.arange(n+1)
    y_arr = np.zeros((n+1, len(x)))
    y_arr[0] = y0 * np.ones_like(x)
    for i in range(n):
        y_arr[i+1] = np.sqrt(x + y_arr[i])
    return n_arr, y_arr

n_arr, y_arr = fn_track(7)
fig, ax = plt.subplots(figsize=(8,4))
ax.plot(n_arr, y_arr)
ax.set_xlabel("迭代次数")
ax.set_ylabel("函数值")
ax.set_title("迭代次数和函数值的关系")








x_arr = np.arange(2,11,2) # 计算输入为 2,4,6,8,10 的情况
n_arr, y_arr = fn_track(x_arr)
fig, ax = plt.subplots(figsize=(8,4))
for i, x in enumerate(x_arr):
    ax.plot(n_arr, y_arr[:,i], label=f"x={x}")
ax.set_xlabel("迭代次数")
ax.set_ylabel("函数值")
ax.legend()
ax.set_title("迭代次数和函数值的关系")





fig, ax = plt.subplots(figsize=(8, 4))

@ipw.interact(x=(0,20,0.1))
def update_plot(x):
    ax.clear() # 清除画布
    n_arr, y_arr = fn_track(x)
    ax.plot(n_arr, y_arr, label=f"x={x}")
    ax.set_xlabel("迭代次数")
    ax.set_ylabel("函数值")
    ax.set_title(f"迭代次数和函数值的关系（$x={x}, y_n={y_arr[-1][0]: .4f}$）")





def f(x, tol=1e-10, y0=1.0, maxn = 1e4): # 为了方便后面使用，同样写成向量化的形式
    x = np.array(x, ndmin=1)
    y = np.ones_like(x) * y0
    for i in range(int(maxn)): # 最大循环次数，防止无限循环
        y_old = y.copy()
        y = np.sqrt(x+y)
        if np.all(np.abs(y-y_old) < tol):
            return y
    print("达到最大迭代次数仍未收敛.")
    return y





f(42)





x_arr = np.arange(1,1001)
y_arr = f(x_arr)
fig, ax = plt.subplots(figsize=(8,4))
ax.plot(x_arr, y_arr)
ax.set_xlabel("y")
ax.set_ylabel("x")
ax.set_title(f"x 和 y 关系")








k, b = np.polyfit(np.log(x_arr), np.log(y_arr), 1)
fit = lambda x: np.exp(k * np.log(x) + b)
fig, ax = plt.subplots(figsize=(8,4))
ax.loglog(x_arr, y_arr, label="计算曲线")
ax.loglog(x_arr, fit(x_arr), '--', label="拟合曲线")
ax.set_xlabel("$\\log x$")
ax.set_ylabel("$\\log y$")
ax.legend()
ax.set_title(f"x 和 y 关系")
print(f"{k=},{b=}")











sym.var("x,y")
sym.solve(y**2-x-y,y)











f_exact = lambda x: 0.5 * (np.sqrt(1+4*x) + 1)
x_arr = np.arange(1,1001)
y_ns = f(x_arr)
y_as = f_exact(x_arr)
fig, ax = plt.subplots(figsize=(8,4))
ax.plot(x_arr, y_ns, label="数值解")
ax.plot(x_arr, y_as, '--', label="解析解")
ax.set_xlabel("y")
ax.set_ylabel("x")
ax.legend()
ax.set_title(f"x 和 y 关系（解析解和数值解对比）")





np.max(y_ns - y_as)











fig, ax = plt.subplots(figsize=(8,4))

@ipw.interact(x=(0.1,20,0.1))
def update_plot(x):
    ax.clear()
    g = lambda y: np.sqrt(x+y)
    yp = f_exact(x)
    x_arr = np.arange(0.01, 2*yp, 0.1)
    ax.plot(x_arr, g(x_arr), label=f"g(y)")
    ax.plot(x_arr, x_arr, label=f"y")
    ax.plot(yp, yp, 'bo', label=f'交点', zorder=5)
    ax.annotate(f'P({yp:.3f},{yp:.3f})',
                xy=(yp, yp),
                xytext=(-60, 15),
                textcoords='offset points',
                arrowprops=dict(arrowstyle="->"))
    ax.set_xlabel("y")
    ax.set_title(f"g(y) 和 y 图像（x={x:.3f}）")
    


fig, ax = plt.subplots(figsize=(8, 5))

@ipw.interact(
    x=(0.1, 10.0, 0.1), 
    y0=(0.1, 15.0, 0.1),
    iterations=(5, 50, 1) # 增加一个控制迭代次数的滑块
)
def update_plot(x, y0, iterations):
    ax.clear()
    g = lambda y: np.sqrt(x + y)
    yp = f_exact(x) # yp 是不动点 (交点)

    y_range_max = max(2 * yp, 1.5 * y0)
    y_arr = np.linspace(0.01, y_range_max, 400)
    ax.plot(y_arr, g(y_arr), label="g(y) = sqrt(x+y)")
    ax.plot(y_arr, y_arr, label="y=y", linestyle='--')

    path_x, path_y = [y0], [y0]
    current_y = y0

    for _ in range(iterations):
        next_y = g(current_y)
        path_x.append(current_y)
        path_y.append(next_y)
        path_x.append(next_y)
        path_y.append(next_y)
        current_y = next_y
        if abs(current_y - yp) < 1e-5:
            break
    ax.plot(path_x, path_y, 'g-o', alpha=0.7, markersize=3, label=f'蛛网图 (y0={y0:.2f})')
    ax.plot(yp, yp, 'ro', label=f'不动点 P({yp:.3f})', zorder=5)
    ax.set_xlabel("y_n")
    ax.set_ylabel("y_n+1")
    ax.set_title(f"蛛网图：y_n+1 = g(y_n) (x={x:.2f})")
    ax.legend()
    ax.grid(True)
    ax.set_xlim(0, y_range_max)
    ax.set_ylim(0, y_range_max)



