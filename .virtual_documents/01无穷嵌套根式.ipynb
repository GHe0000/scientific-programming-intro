




















import numpy as np # 数值计算库
import numba as nb # 引入 jit 来加速函数（如果需要）
import sympy as sym # 符号计算库
import matplotlib.pyplot as plt # 图像绘制
import ipywidgets as ipw # 交互控件

# 使用 mathjax 来在 jupyter notebook 显示数学公式
sym.init_printing(use_latex='mathjax')

# 设置 matplotlib 绘制的图像嵌入到 jupyter notebook 的方式
get_ipython().run_line_magic("matplotlib", " widget")

# 设置 matplotlib 使用的字体，避免出现中文问题
plt.rcParams['font.sans-serif'] = ['SimHei']
plt.rcParams['axes.unicode_minus'] = False








def fn(x, n=20, y0=1):
    x = np.array(x, ndmin=1) # 保证至少是 1D 的 Array
    y = np.ones_like(x) * y0
    for i in range(n):
        y = np.sqrt(x+y)
    return y





fn(42)





def fn_track(x, n=20, y0=1):
    x = np.array(x, ndmin=1)
    n_arr = np.arange(n+1)
    y_arr = np.zeros((n+1, len(x)))
    y_arr[0] = y0 * np.ones_like(x)
    for i in range(n):
        y_arr[i+1] = np.sqrt(x + y_arr[i])
    return n_arr, y_arr

n_arr, y_arr = fn_track(7)
fig, ax = plt.subplots(figsize=(8,4))
ax.plot(n_arr, y_arr)
ax.set_xlabel("迭代次数")
ax.set_ylabel("函数值")
ax.set_title("迭代次数和函数值的关系")








x_arr = np.arange(2,11,2) # 计算输入为 2,4,6,8,10 的情况
n_arr, y_arr = fn_track(x_arr)
fig, ax = plt.subplots(figsize=(8,4))
for i, x in enumerate(x_arr):
    ax.plot(n_arr, y_arr[:,i], label=f"x={x}")
ax.set_xlabel("迭代次数")
ax.set_ylabel("函数值")
ax.legend()
ax.set_title("迭代次数和函数值的关系")





fig, ax = plt.subplots(figsize=(8, 4))

@ipw.interact(x=(0,20,0.1))
def update_plot(x):
    ax.clear() # 清除画布
    n_arr, y_arr = fn_track(x)
    ax.plot(n_arr, y_arr, label=f"x={x}")
    ax.set_xlabel("迭代次数")
    ax.set_ylabel("函数值")
    ax.set_title(f"迭代次数和函数值的关系（$x={x}, y_n={y_arr[-1][0]: .4f}$）")





def f(x, tol=1e-10, y0=1.0, maxn = 1e4): # 为了方便后面使用，同样写成向量化的形式
    x = np.array(x, ndmin=1)
    y = np.ones_like(x) * y0
    for i in range(int(maxn)): # 最大循环次数，防止无限循环
        y_old = y.copy()
        y = np.sqrt(x+y)
        if np.all(np.abs(y-y_old) < tol):
            return y
    print("达到最大迭代次数仍未收敛.")
    return y





f(42)





x_arr = np.arange(1,1001)
y_arr = f(x_arr)
fig, ax = plt.subplots(figsize=(8,4))
ax.plot(x_arr, y_arr)
ax.set_xlabel("y")
ax.set_ylabel("x")
ax.set_title(f"x 和 y 关系")








k, b = np.polyfit(np.log(x_arr), np.log(y_arr), 1)
fit = lambda x: np.exp(k * np.log(x) + b)
fig, ax = plt.subplots(figsize=(8,4))
ax.loglog(x_arr, y_arr, label="计算曲线")
ax.loglog(x_arr, fit(x_arr), '--', label="拟合曲线")
ax.set_xlabel("$\\log x$")
ax.set_ylabel("$\\log y$")
ax.legend()
ax.set_title(f"对数坐标拟合（k={k:.3f}, b={b:.3f}）")
print(f"{k=},{b=}")











sym.var("x,y")
sym.solve(y**2-x-y,y)











f_exact = lambda x: 0.5 * (np.sqrt(1+4*x) + 1)
x_arr = np.arange(1,1001)
y_ns = f(x_arr)
y_as = f_exact(x_arr)
fig, ax = plt.subplots(figsize=(8,4))
ax.plot(x_arr, y_ns, label="数值解")
ax.plot(x_arr, y_as, '--', label="解析解")
ax.set_xlabel("y")
ax.set_ylabel("x")
ax.legend()
ax.set_title(f"x 和 y 关系（解析解和数值解对比）")





np.max(y_ns - y_as)











fig, ax = plt.subplots(figsize=(8,4))

@ipw.interact(x=(0.1,20,0.1))
def update_plot(x):
    ax.clear()
    g = lambda y: np.sqrt(x+y)
    yp = f_exact(x)
    x_arr = np.arange(0.01, 2*yp, 0.1)
    ax.plot(x_arr, g(x_arr), label=f"g(y)")
    ax.plot(x_arr, x_arr, label=f"y")
    ax.plot(yp, yp, 'bo', label=f'交点', zorder=5)
    ax.annotate(f'P({yp:.3f},{yp:.3f})',
                xy=(yp, yp),
                xytext=(-60, 15),
                textcoords='offset points',
                arrowprops=dict(arrowstyle="->"))
    ax.set_xlabel("y")
    ax.set_ylabel("函数值")
    ax.legend()
    ax.set_title(f"g(y) 和 y 图像（x={x:.3f}）")
    





fig, ax = plt.subplots(figsize=(8, 5))

@ipw.interact(
    x=(0.1, 10.0, 0.1), 
    y0=(0.1, 15.0, 0.1),
    n=(1, 20, 1)
)
def update_plot(x, y0, n):
    n = int(n)
    ax.clear()
    g = lambda y: np.sqrt(x + y)
    yp = f_exact(x)
    x_arr = np.arange(0.01, max(2*yp, 1.2*y0), 0.1)
    n_arr, yn_arr = fn_track(x, n, y0)
    path = np.zeros((2*n+1, 2))
    for i, (p0, p1) in enumerate(zip(yn_arr, yn_arr[1:])):
        path[2*i] = np.array([p0, p0]).flatten()
        path[2*i+1] = np.array([p0, p1]).flatten()
    path[-1] = np.array([yn_arr[-1], yn_arr[-1]]).flatten()
    ax.plot(x_arr, x_arr, label="y")
    ax.plot(x_arr, g(x_arr), label="g(y)")
    ax.plot(yp, yp, 'bo', label=f'交点', zorder=5)
    ax.annotate(f'P({yp:.3f},{yp:.3f})',
                xy=(yp, yp),
                xytext=(-60, 15),
                textcoords='offset points',
                arrowprops=dict(arrowstyle="->"))
    ax.plot(path[:,0], path[:,1], label="蛛网图")
    ax.set_xlabel("y")
    ax.set_ylabel("函数值")
    ax.legend()
    ax.set_title(f"蛛网图（$x$={x:.3f}, $y_0$={y0:.3f}, $n$={n}）")
    
