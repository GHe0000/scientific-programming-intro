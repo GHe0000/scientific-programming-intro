











import numpy as np # 数值计算库
import numba as nb # 引入 jit 来加速函数
import sympy as sym # 符号计算库
import matplotlib.pyplot as plt # 图像绘制
import ipywidgets as ipw # 交互控件

# 使用 mathjax 来在 jupyter notebook 显示数学公式
sym.init_printing(use_latex='mathjax')

# 设置 matplotlib 绘制的图像嵌入到 jupyter notebook
get_ipython().run_line_magic("matplotlib", " widget")

# 设置 matplotlib 使用的字体，避免出现中文问题
plt.rcParams['font.sans-serif'] = ['SimHei']
plt.rcParams['axes.unicode_minus'] = False








def fn(x, n=20, y0=1):
    y = np.ones_like(x) * y0
    for i in range(n):
        y = np.sqrt(x+y)
    return y





fn(42)





def fn_track(x, n=20, y0=1):
    n_arr = np.arange(n+1)
    y_arr = np.zeros((n+1, len(x)))
    y_arr[0] = y0 * np.ones_like(x)
    for i in range(n):
        y_arr[i+1] = np.sqrt(x + y_arr[i])
    return n_arr, y_arr

n_arr, y_arr = fn_track(np.array([7]))
fig, ax = plt.subplots(figsize=(8,4))
ax.plot(n_arr, y_arr)
ax.set_xlabel("迭代次数")
ax.set_ylabel("函数值")
ax.set_title("迭代次数和函数值的关系")








x_arr = np.arange(2,11,2) # 计算输入为 2,4,6,8,10 的情况
n_arr, y_arr = fn_track(x_arr)
fig, ax = plt.subplots(figsize=(8,4))
for i, x in enumerate(x_arr):
    ax.plot(n_arr, y_arr[:,i], label=f"x={x}")
ax.set_xlabel("迭代次数")
ax.set_ylabel("函数值")
ax.legend()
ax.set_title("迭代次数和函数值的关系")





fig, ax = plt.subplots(figsize=(8, 4))

@ipw.interact(x=(0,20,0.1))
def update_plot(x):
    ax.clear() # 清除画布
    n_arr, y_arr = fn_track(np.array([x]))
    ax.plot(n_arr, y_arr, label=f"x={x}")
    ax.set_xlabel("迭代次数")
    ax.set_ylabel("函数值")
    ax.set_title(f"迭代次数和函数值的关系（$x={x}, y_n={y_arr[-1][0]: .4f}$）")





@nb.njit()
def ft(x, n=100):
    ans = np.zeros((n+1, len(x)))
    xt = np.arange(n+1)
    ans[0] = x.copy()
    for i in range(n):
        ans[i+1] = np.sqrt(ans[i])
    return xt, ans


fig, ax = plt.subplots(figsize=(10, 6))
def callback(x):
    ax.clear()
    xt, yt = ft(np.array([x]))
    ax.plot(xt, yt)
ipw.interact(callback, x=(0, 2, 0.01))



