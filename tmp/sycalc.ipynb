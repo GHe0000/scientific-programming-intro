{
 "cells": [
  {
   "cell_type": "code",
   "execution_count": 1,
   "id": "80168f93-abd3-4b1c-bbaa-822d520656fd",
   "metadata": {},
   "outputs": [],
   "source": [
    "import numpy as np # 数值计算库\n",
    "import numba as nb # 引入 jit 来加速函数（如果需要）\n",
    "import sympy as sym # 符号计算库\n",
    "import matplotlib as mpl\n",
    "import matplotlib.pyplot as plt # 图像绘制\n",
    "from matplotlib.backends.backend_agg import FigureCanvasAgg # 设置图像后端用\n",
    "import ipywidgets as ipw # 交互控件\n",
    "from IPython.display import display, Math, Latex # 打印数学公式\n",
    "\n",
    "# 设置随机数种子确保结果的可复现性\n",
    "np.random.seed(3407)\n",
    "\n",
    "# 使用 mathjax 来在 jupyter notebook 显示数学公式\n",
    "sym.init_printing(use_latex='mathjax')\n",
    "\n",
    "# 设置 matplotlib 绘制的图像嵌入到 jupyter notebook 的方式\n",
    "%matplotlib widget\n",
    "\n",
    "# 一个工具函数，可以让静态图片不经过 widget 直接嵌入 Jupyter notebook\n",
    "# 这样图片可以直接存到 nb 文件里，而不是需要运行才能显示（类似 inline）\n",
    "def display_inline(fig):\n",
    "    fig.set_canvas(FigureCanvasAgg(fig))\n",
    "    display(fig)\n",
    "    plt.close(fig) # 释放 fig，减小资源消耗\n",
    "\n",
    "# 一个工具函数，用于在 Jupyter 中快速实现公式和字符串混合输出\n",
    "def display_math(*args):\n",
    "    parts = []\n",
    "    for a in args:\n",
    "        if isinstance(a, str):\n",
    "            parts.append(a)\n",
    "        else:\n",
    "            parts.append(sym.latex(a))\n",
    "    display(Math(\"\".join(parts)))\n",
    "\n",
    "# 设置 matplotlib 使用的字体，避免出现中文问题\n",
    "plt.rcParams['font.family'] = ['SimSun', 'Times New Roman']\n",
    "plt.rcParams['mathtext.fontset'] = 'cm'\n",
    "# 设置默认坐标轴字体大小\n",
    "plt.rcParams['axes.labelsize'] = 14"
   ]
  },
  {
   "cell_type": "code",
   "execution_count": 2,
   "id": "951c274a-40bb-4ca9-8216-c904abafa1f0",
   "metadata": {},
   "outputs": [],
   "source": [
    "from sympy import *"
   ]
  },
  {
   "cell_type": "code",
   "execution_count": 3,
   "id": "11658416-18db-4bcf-91e9-60d938dcde9f",
   "metadata": {},
   "outputs": [
    {
     "data": {
      "text/latex": [
       "$\\displaystyle \\left( \\sigma, \\  \\beta, \\  r\\right)$"
      ],
      "text/plain": [
       "(σ, β, r)"
      ]
     },
     "execution_count": 3,
     "metadata": {},
     "output_type": "execute_result"
    }
   ],
   "source": [
    "var(\"sigma, beta, r\")"
   ]
  },
  {
   "cell_type": "code",
   "execution_count": 4,
   "id": "574b7797-6aca-4a7f-876f-c5104336311b",
   "metadata": {},
   "outputs": [
    {
     "data": {
      "text/latex": [
       "$\\displaystyle \\left( x, \\  y, \\  z\\right)$"
      ],
      "text/plain": [
       "(x, y, z)"
      ]
     },
     "execution_count": 4,
     "metadata": {},
     "output_type": "execute_result"
    }
   ],
   "source": [
    "var(\"x,y,z\")"
   ]
  },
  {
   "cell_type": "code",
   "execution_count": 5,
   "id": "31bbe932-6ec5-49bb-a58e-afa66cb84245",
   "metadata": {},
   "outputs": [],
   "source": [
    "X = Matrix([x,y,z])"
   ]
  },
  {
   "cell_type": "code",
   "execution_count": 7,
   "id": "3df31494-fa3a-4602-8041-3882a5285638",
   "metadata": {},
   "outputs": [],
   "source": [
    "F = Matrix([sigma * (y-x),\n",
    "           r*x-y-x*z,\n",
    "           x*y-beta*z])"
   ]
  },
  {
   "cell_type": "code",
   "execution_count": 8,
   "id": "3efaf158-81d7-4b26-b21d-8e006b52a2b6",
   "metadata": {},
   "outputs": [],
   "source": [
    "J = F.jacobian(X)"
   ]
  },
  {
   "cell_type": "code",
   "execution_count": 9,
   "id": "82dbbc48-ee31-45e2-a3ed-7ddad0538b4e",
   "metadata": {},
   "outputs": [
    {
     "data": {
      "text/latex": [
       "$\\displaystyle \\left[\\begin{matrix}- \\sigma & \\sigma & 0\\\\r - z & -1 & - x\\\\y & x & - \\beta\\end{matrix}\\right]$"
      ],
      "text/plain": [
       "⎡ -σ    σ   0 ⎤\n",
       "⎢             ⎥\n",
       "⎢r - z  -1  -x⎥\n",
       "⎢             ⎥\n",
       "⎣  y    x   -β⎦"
      ]
     },
     "execution_count": 9,
     "metadata": {},
     "output_type": "execute_result"
    }
   ],
   "source": [
    "J"
   ]
  },
  {
   "cell_type": "code",
   "execution_count": 12,
   "id": "47510542-c7a2-44c0-a15f-151bb166be90",
   "metadata": {},
   "outputs": [
    {
     "data": {
      "text/latex": [
       "$\\displaystyle \\left[ \\left( 0, \\  0, \\  0\\right), \\  \\left( - \\sqrt{\\beta r - \\beta}, \\  - \\sqrt{\\beta \\left(r - 1\\right)}, \\  r - 1\\right), \\  \\left( \\sqrt{\\beta r - \\beta}, \\  \\sqrt{\\beta \\left(r - 1\\right)}, \\  r - 1\\right)\\right]$"
      ],
      "text/plain": [
       "⎡           ⎛   _________     ___________       ⎞  ⎛  _________    ___________ ↪\n",
       "⎣(0, 0, 0), ⎝-╲╱ β⋅r - β , -╲╱ β⋅(r - 1) , r - 1⎠, ⎝╲╱ β⋅r - β , ╲╱ β⋅(r - 1)  ↪\n",
       "\n",
       "↪        ⎞⎤\n",
       "↪ , r - 1⎠⎦"
      ]
     },
     "execution_count": 12,
     "metadata": {},
     "output_type": "execute_result"
    }
   ],
   "source": [
    "sol=solve(F,X)\n",
    "sol"
   ]
  },
  {
   "cell_type": "code",
   "execution_count": 15,
   "id": "094a34ab-96f3-4008-9b68-7fe9c499b05c",
   "metadata": {},
   "outputs": [
    {
     "data": {
      "text/latex": [
       "$\\displaystyle \\left[\\begin{matrix}- \\sigma & \\sigma & 0\\\\r & -1 & 0\\\\0 & 0 & - \\beta\\end{matrix}\\right]$"
      ],
      "text/plain": [
       "⎡-σ  σ   0 ⎤\n",
       "⎢          ⎥\n",
       "⎢r   -1  0 ⎥\n",
       "⎢          ⎥\n",
       "⎣0   0   -β⎦"
      ]
     },
     "execution_count": 15,
     "metadata": {},
     "output_type": "execute_result"
    }
   ],
   "source": [
    "J.subs(zip(X, sol[0]))"
   ]
  },
  {
   "cell_type": "code",
   "execution_count": 20,
   "id": "316a9c2f-f07b-48a1-aafd-2e8edf564bde",
   "metadata": {},
   "outputs": [
    {
     "data": {
      "text/latex": [
       "$\\displaystyle \\left\\{ - \\beta : 1, \\  - \\frac{\\sigma}{2} - \\frac{\\sqrt{4 r \\sigma + \\sigma^{2} - 2 \\sigma + 1}}{2} - \\frac{1}{2} : 1, \\  - \\frac{\\sigma}{2} + \\frac{\\sqrt{4 r \\sigma + \\sigma^{2} - 2 \\sigma + 1}}{2} - \\frac{1}{2} : 1\\right\\}$"
      ],
      "text/plain": [
       "⎧                ______________________                  _____________________ ↪\n",
       "⎪               ╱          2                            ╱          2           ↪\n",
       "⎨         σ   ╲╱  4⋅r⋅σ + σ  - 2⋅σ + 1    1       σ   ╲╱  4⋅r⋅σ + σ  - 2⋅σ + 1 ↪\n",
       "⎪-β: 1, - ─ - ───────────────────────── - ─: 1, - ─ + ──────────────────────── ↪\n",
       "⎩         2               2               2       2               2            ↪\n",
       "\n",
       "↪ _       ⎫\n",
       "↪         ⎪\n",
       "↪     1   ⎬\n",
       "↪ ─ - ─: 1⎪\n",
       "↪     2   ⎭"
      ]
     },
     "execution_count": 20,
     "metadata": {},
     "output_type": "execute_result"
    }
   ],
   "source": [
    "J.subs(zip(X, sol[0])).eigenvals()"
   ]
  },
  {
   "cell_type": "code",
   "execution_count": 24,
   "id": "aae903e0-4fbd-489f-86d6-b67fe48dce75",
   "metadata": {},
   "outputs": [
    {
     "data": {
      "text/latex": [
       "$\\displaystyle \\left\\{ - \\frac{\\beta}{3} - \\frac{\\sigma}{3} - \\frac{- 3 \\beta r - 3 \\beta \\sigma + \\left(\\beta + \\sigma + 1\\right)^{2}}{3 \\sqrt[3]{27 \\beta r \\sigma - 27 \\beta \\sigma - \\frac{\\left(\\beta r + \\beta \\sigma\\right) \\left(9 \\beta + 9 \\sigma + 9\\right)}{2} + \\frac{\\sqrt{- 4 \\left(- 3 \\beta r - 3 \\beta \\sigma + \\left(\\beta + \\sigma + 1\\right)^{2}\\right)^{3} + \\left(54 \\beta r \\sigma - 54 \\beta \\sigma - \\left(\\beta r + \\beta \\sigma\\right) \\left(9 \\beta + 9 \\sigma + 9\\right) + 2 \\left(\\beta + \\sigma + 1\\right)^{3}\\right)^{2}}}{2} + \\left(\\beta + \\sigma + 1\\right)^{3}}} - \\frac{\\sqrt[3]{27 \\beta r \\sigma - 27 \\beta \\sigma - \\frac{\\left(\\beta r + \\beta \\sigma\\right) \\left(9 \\beta + 9 \\sigma + 9\\right)}{2} + \\frac{\\sqrt{- 4 \\left(- 3 \\beta r - 3 \\beta \\sigma + \\left(\\beta + \\sigma + 1\\right)^{2}\\right)^{3} + \\left(54 \\beta r \\sigma - 54 \\beta \\sigma - \\left(\\beta r + \\beta \\sigma\\right) \\left(9 \\beta + 9 \\sigma + 9\\right) + 2 \\left(\\beta + \\sigma + 1\\right)^{3}\\right)^{2}}}{2} + \\left(\\beta + \\sigma + 1\\right)^{3}}}{3} - \\frac{1}{3} : 1, \\  - \\frac{\\beta}{3} - \\frac{\\sigma}{3} - \\frac{- 3 \\beta r - 3 \\beta \\sigma + \\left(\\beta + \\sigma + 1\\right)^{2}}{3 \\left(- \\frac{1}{2} - \\frac{\\sqrt{3} i}{2}\\right) \\sqrt[3]{27 \\beta r \\sigma - 27 \\beta \\sigma - \\frac{\\left(\\beta r + \\beta \\sigma\\right) \\left(9 \\beta + 9 \\sigma + 9\\right)}{2} + \\frac{\\sqrt{- 4 \\left(- 3 \\beta r - 3 \\beta \\sigma + \\left(\\beta + \\sigma + 1\\right)^{2}\\right)^{3} + \\left(54 \\beta r \\sigma - 54 \\beta \\sigma - \\left(\\beta r + \\beta \\sigma\\right) \\left(9 \\beta + 9 \\sigma + 9\\right) + 2 \\left(\\beta + \\sigma + 1\\right)^{3}\\right)^{2}}}{2} + \\left(\\beta + \\sigma + 1\\right)^{3}}} - \\frac{\\left(- \\frac{1}{2} - \\frac{\\sqrt{3} i}{2}\\right) \\sqrt[3]{27 \\beta r \\sigma - 27 \\beta \\sigma - \\frac{\\left(\\beta r + \\beta \\sigma\\right) \\left(9 \\beta + 9 \\sigma + 9\\right)}{2} + \\frac{\\sqrt{- 4 \\left(- 3 \\beta r - 3 \\beta \\sigma + \\left(\\beta + \\sigma + 1\\right)^{2}\\right)^{3} + \\left(54 \\beta r \\sigma - 54 \\beta \\sigma - \\left(\\beta r + \\beta \\sigma\\right) \\left(9 \\beta + 9 \\sigma + 9\\right) + 2 \\left(\\beta + \\sigma + 1\\right)^{3}\\right)^{2}}}{2} + \\left(\\beta + \\sigma + 1\\right)^{3}}}{3} - \\frac{1}{3} : 1, \\  - \\frac{\\beta}{3} - \\frac{\\sigma}{3} - \\frac{- 3 \\beta r - 3 \\beta \\sigma + \\left(\\beta + \\sigma + 1\\right)^{2}}{3 \\left(- \\frac{1}{2} + \\frac{\\sqrt{3} i}{2}\\right) \\sqrt[3]{27 \\beta r \\sigma - 27 \\beta \\sigma - \\frac{\\left(\\beta r + \\beta \\sigma\\right) \\left(9 \\beta + 9 \\sigma + 9\\right)}{2} + \\frac{\\sqrt{- 4 \\left(- 3 \\beta r - 3 \\beta \\sigma + \\left(\\beta + \\sigma + 1\\right)^{2}\\right)^{3} + \\left(54 \\beta r \\sigma - 54 \\beta \\sigma - \\left(\\beta r + \\beta \\sigma\\right) \\left(9 \\beta + 9 \\sigma + 9\\right) + 2 \\left(\\beta + \\sigma + 1\\right)^{3}\\right)^{2}}}{2} + \\left(\\beta + \\sigma + 1\\right)^{3}}} - \\frac{\\left(- \\frac{1}{2} + \\frac{\\sqrt{3} i}{2}\\right) \\sqrt[3]{27 \\beta r \\sigma - 27 \\beta \\sigma - \\frac{\\left(\\beta r + \\beta \\sigma\\right) \\left(9 \\beta + 9 \\sigma + 9\\right)}{2} + \\frac{\\sqrt{- 4 \\left(- 3 \\beta r - 3 \\beta \\sigma + \\left(\\beta + \\sigma + 1\\right)^{2}\\right)^{3} + \\left(54 \\beta r \\sigma - 54 \\beta \\sigma - \\left(\\beta r + \\beta \\sigma\\right) \\left(9 \\beta + 9 \\sigma + 9\\right) + 2 \\left(\\beta + \\sigma + 1\\right)^{3}\\right)^{2}}}{2} + \\left(\\beta + \\sigma + 1\\right)^{3}}}{3} - \\frac{1}{3} : 1\\right\\}$"
      ],
      "text/plain": [
       "⎧                                                                              ↪\n",
       "⎪                                                                              ↪\n",
       "⎪                                                                              ↪\n",
       "⎪                                                                              ↪\n",
       "⎪                                                                              ↪\n",
       "⎪                                                                              ↪\n",
       "⎪  β   σ                                                                       ↪\n",
       "⎨- ─ - ─ - ─────────────────────────────────────────────────────────────────── ↪\n",
       "⎪  3   3            __________________________________________________________ ↪\n",
       "⎪                  ╱                                                       ___ ↪\n",
       "⎪                 ╱                                                       ╱    ↪\n",
       "⎪                ╱                                                       ╱     ↪\n",
       "⎪               ╱                        (β⋅r + β⋅σ)⋅(9⋅β + 9⋅σ + 9)   ╲╱   -  ↪\n",
       "⎪          3⋅3 ╱     27⋅β⋅r⋅σ - 27⋅β⋅σ - ─────────────────────────── + ─────── ↪\n",
       "⎩            ╲╱                                       2                        ↪\n",
       "\n",
       "↪                                                                              ↪\n",
       "↪                                                                              ↪\n",
       "↪                                                                              ↪\n",
       "↪                                                                              ↪\n",
       "↪                                                                              ↪\n",
       "↪                                         2                                    ↪\n",
       "↪             -3⋅β⋅r - 3⋅β⋅σ + (β + σ + 1)                                     ↪\n",
       "↪ ──────────────────────────────────────────────────────────────────────────── ↪\n",
       "↪ ____________________________________________________________________________ ↪\n",
       "↪ ____________________________________________________________________________ ↪\n",
       "↪                                  3                                           ↪\n",
       "↪   ⎛                            2⎞    ⎛                                       ↪\n",
       "↪ 4⋅⎝-3⋅β⋅r - 3⋅β⋅σ + (β + σ + 1) ⎠  + ⎝54⋅β⋅r⋅σ - 54⋅β⋅σ - (β⋅r + β⋅σ)⋅(9⋅β + ↪\n",
       "↪ ──────────────────────────────────────────────────────────────────────────── ↪\n",
       "↪                                                 2                            ↪\n",
       "\n",
       "↪                                                        _____________________ ↪\n",
       "↪                                                       ╱                      ↪\n",
       "↪                                                      ╱                       ↪\n",
       "↪                                                     ╱                        ↪\n",
       "↪                                                    ╱                         ↪\n",
       "↪                                                 3 ╱     27⋅β⋅r⋅σ - 27⋅β⋅σ -  ↪\n",
       "↪                                                 ╲╱                           ↪\n",
       "↪ ───────────────────────────────────────────── - ──────────────────────────── ↪\n",
       "↪ _____________________________________________                                ↪\n",
       "↪ _____________________________                                                ↪\n",
       "↪                            2                                                 ↪\n",
       "↪                          3⎞                                                  ↪\n",
       "↪  9⋅σ + 9) + 2⋅(β + σ + 1) ⎠                3                                 ↪\n",
       "↪ ───────────────────────────── + (β + σ + 1)                                  ↪\n",
       "↪                                                                              ↪\n",
       "\n",
       "↪ ____________________________________________________________________________ ↪\n",
       "↪                                   __________________________________________ ↪\n",
       "↪                                  ╱                                    3      ↪\n",
       "↪                                 ╱      ⎛                            2⎞    ⎛  ↪\n",
       "↪ (β⋅r + β⋅σ)⋅(9⋅β + 9⋅σ + 9)   ╲╱   - 4⋅⎝-3⋅β⋅r - 3⋅β⋅σ + (β + σ + 1) ⎠  + ⎝5 ↪\n",
       "↪ ─────────────────────────── + ────────────────────────────────────────────── ↪\n",
       "↪              2                                                               ↪\n",
       "↪ ──────────────────────────────────────────────────────────────────────────── ↪\n",
       "↪                                                                 3            ↪\n",
       "↪                                                                              ↪\n",
       "↪                                                                              ↪\n",
       "↪                                                                              ↪\n",
       "↪                                                                              ↪\n",
       "↪                                                                              ↪\n",
       "↪                                                                              ↪\n",
       "\n",
       "↪ ____________________________________________________________________________ ↪\n",
       "↪ __________________________________________________________________           ↪\n",
       "↪                                                                 2            ↪\n",
       "↪                                                               3⎞             ↪\n",
       "↪ 4⋅β⋅r⋅σ - 54⋅β⋅σ - (β⋅r + β⋅σ)⋅(9⋅β + 9⋅σ + 9) + 2⋅(β + σ + 1) ⎠             ↪\n",
       "↪ ────────────────────────────────────────────────────────────────── + (β + σ  ↪\n",
       "↪          2                                                                   ↪\n",
       "↪ ──────────────────────────────────────────────────────────────────────────── ↪\n",
       "↪                                                                              ↪\n",
       "↪                                                                              ↪\n",
       "↪                                                                              ↪\n",
       "↪                                                                              ↪\n",
       "↪                                                                              ↪\n",
       "↪                                                                              ↪\n",
       "↪                                                                              ↪\n",
       "\n",
       "↪ ______                                                                       ↪\n",
       "↪                                                                              ↪\n",
       "↪                                                                              ↪\n",
       "↪                                                                              ↪\n",
       "↪     3                                                                        ↪\n",
       "↪ + 1)                                                                         ↪\n",
       "↪          1       β   σ                                                       ↪\n",
       "↪ ────── - ─: 1, - ─ - ─ - ─────────────────────────────────────────────────── ↪\n",
       "↪          3       3   3                         _____________________________ ↪\n",
       "↪                                               ╱                              ↪\n",
       "↪                                              ╱                               ↪\n",
       "↪                                             ╱                                ↪\n",
       "↪                            ⎛  1   √3⋅ⅈ⎞    ╱                        (β⋅r + β ↪\n",
       "↪                          3⋅⎜- ─ - ────⎟⋅3 ╱     27⋅β⋅r⋅σ - 27⋅β⋅σ - ──────── ↪\n",
       "↪                            ⎝  2    2  ⎠ ╲╱                                   ↪\n",
       "\n",
       "↪                                                                              ↪\n",
       "↪                                                                              ↪\n",
       "↪                                                                              ↪\n",
       "↪                                                                              ↪\n",
       "↪                                                                              ↪\n",
       "↪                                                                2             ↪\n",
       "↪                                    -3⋅β⋅r - 3⋅β⋅σ + (β + σ + 1)              ↪\n",
       "↪ ──────────────────────────────────────────────────────────────────────────── ↪\n",
       "↪ ____________________________________________________________________________ ↪\n",
       "↪                           __________________________________________________ ↪\n",
       "↪                          ╱                                    3              ↪\n",
       "↪                         ╱      ⎛                            2⎞    ⎛          ↪\n",
       "↪ ⋅σ)⋅(9⋅β + 9⋅σ + 9)   ╲╱   - 4⋅⎝-3⋅β⋅r - 3⋅β⋅σ + (β + σ + 1) ⎠  + ⎝54⋅β⋅r⋅σ  ↪\n",
       "↪ ─────────────────── + ────────────────────────────────────────────────────── ↪\n",
       "↪      2                                                                       ↪\n",
       "\n",
       "↪                                                                              ↪\n",
       "↪                                                                              ↪\n",
       "↪                                                                              ↪\n",
       "↪                                                                              ↪\n",
       "↪                                                                              ↪\n",
       "↪                                                                              ↪\n",
       "↪                                                                              ↪\n",
       "↪ ────────────────────────────────────────────────────────────────────────── - ↪\n",
       "↪ __________________________________________________________________________   ↪\n",
       "↪ __________________________________________________________                   ↪\n",
       "↪                                                         2                    ↪\n",
       "↪                                                       3⎞                     ↪\n",
       "↪ - 54⋅β⋅σ - (β⋅r + β⋅σ)⋅(9⋅β + 9⋅σ + 9) + 2⋅(β + σ + 1) ⎠                3    ↪\n",
       "↪ ────────────────────────────────────────────────────────── + (β + σ + 1)     ↪\n",
       "↪  2                                                                           ↪\n",
       "\n",
       "↪                      _______________________________________________________ ↪\n",
       "↪                     ╱                                                        ↪\n",
       "↪                    ╱                                                       ╱ ↪\n",
       "↪                   ╱                                                       ╱  ↪\n",
       "↪  ⎛  1   √3⋅ⅈ⎞    ╱                        (β⋅r + β⋅σ)⋅(9⋅β + 9⋅σ + 9)   ╲╱   ↪\n",
       "↪  ⎜- ─ - ────⎟⋅3 ╱     27⋅β⋅r⋅σ - 27⋅β⋅σ - ─────────────────────────── + ──── ↪\n",
       "↪  ⎝  2    2  ⎠ ╲╱                                       2                     ↪\n",
       "↪  ─────────────────────────────────────────────────────────────────────────── ↪\n",
       "↪                                                                              ↪\n",
       "↪                                                                              ↪\n",
       "↪                                                                              ↪\n",
       "↪                                                                              ↪\n",
       "↪                                                                              ↪\n",
       "↪                                                                              ↪\n",
       "↪                                                                              ↪\n",
       "\n",
       "↪ ____________________________________________________________________________ ↪\n",
       "↪ ____________________________________________________________________________ ↪\n",
       "↪                                     3                                        ↪\n",
       "↪      ⎛                            2⎞    ⎛                                    ↪\n",
       "↪  - 4⋅⎝-3⋅β⋅r - 3⋅β⋅σ + (β + σ + 1) ⎠  + ⎝54⋅β⋅r⋅σ - 54⋅β⋅σ - (β⋅r + β⋅σ)⋅(9⋅ ↪\n",
       "↪ ──────────────────────────────────────────────────────────────────────────── ↪\n",
       "↪                                                    2                         ↪\n",
       "↪ ──────────────────────────────────────────────────────────────────────────── ↪\n",
       "↪                         3                                                    ↪\n",
       "↪                                                                              ↪\n",
       "↪                                                                              ↪\n",
       "↪                                                                              ↪\n",
       "↪                                                                              ↪\n",
       "↪                                                                              ↪\n",
       "↪                                                                              ↪\n",
       "\n",
       "↪ ________________________________________________                             ↪\n",
       "↪ ________________________________                                             ↪\n",
       "↪                               2                                              ↪\n",
       "↪                             3⎞                                               ↪\n",
       "↪ β + 9⋅σ + 9) + 2⋅(β + σ + 1) ⎠                3                              ↪\n",
       "↪ ──────────────────────────────── + (β + σ + 1)                               ↪\n",
       "↪                                                    1       β   σ             ↪\n",
       "↪ ──────────────────────────────────────────────── - ─: 1, - ─ - ─ - ───────── ↪\n",
       "↪                                                    3       3   3             ↪\n",
       "↪                                                                              ↪\n",
       "↪                                                                              ↪\n",
       "↪                                                                              ↪\n",
       "↪                                                                      ⎛  1    ↪\n",
       "↪                                                                    3⋅⎜- ─ +  ↪\n",
       "↪                                                                      ⎝  2    ↪\n",
       "\n",
       "↪                                                                              ↪\n",
       "↪                                                                              ↪\n",
       "↪                                                                              ↪\n",
       "↪                                                                              ↪\n",
       "↪                                                                              ↪\n",
       "↪                                                                              ↪\n",
       "↪                                                                              ↪\n",
       "↪ ──────────────────────────────────────────────────────────────────────────── ↪\n",
       "↪              _______________________________________________________________ ↪\n",
       "↪             ╱                                                       ________ ↪\n",
       "↪            ╱                                                       ╱         ↪\n",
       "↪           ╱                                                       ╱      ⎛   ↪\n",
       "↪ √3⋅ⅈ⎞    ╱                        (β⋅r + β⋅σ)⋅(9⋅β + 9⋅σ + 9)   ╲╱   - 4⋅⎝-3 ↪\n",
       "↪ ────⎟⋅3 ╱     27⋅β⋅r⋅σ - 27⋅β⋅σ - ─────────────────────────── + ──────────── ↪\n",
       "↪  2  ⎠ ╲╱                                       2                             ↪\n",
       "\n",
       "↪                                                                              ↪\n",
       "↪                                                                              ↪\n",
       "↪                                                                              ↪\n",
       "↪                                                                              ↪\n",
       "↪                                                                              ↪\n",
       "↪                              2                                               ↪\n",
       "↪  -3⋅β⋅r - 3⋅β⋅σ + (β + σ + 1)                                                ↪\n",
       "↪ ──────────────────────────────────────────────────────────────────────────── ↪\n",
       "↪ ____________________________________________________________________________ ↪\n",
       "↪ ____________________________________________________________________________ ↪\n",
       "↪                             3                                                ↪\n",
       "↪                           2⎞    ⎛                                            ↪\n",
       "↪ ⋅β⋅r - 3⋅β⋅σ + (β + σ + 1) ⎠  + ⎝54⋅β⋅r⋅σ - 54⋅β⋅σ - (β⋅r + β⋅σ)⋅(9⋅β + 9⋅σ  ↪\n",
       "↪ ──────────────────────────────────────────────────────────────────────────── ↪\n",
       "↪                                            2                                 ↪\n",
       "\n",
       "↪                                                                _____________ ↪\n",
       "↪                                                               ╱              ↪\n",
       "↪                                                              ╱               ↪\n",
       "↪                                                             ╱                ↪\n",
       "↪                                            ⎛  1   √3⋅ⅈ⎞    ╱                 ↪\n",
       "↪                                            ⎜- ─ + ────⎟⋅3 ╱     27⋅β⋅r⋅σ - 2 ↪\n",
       "↪                                            ⎝  2    2  ⎠ ╲╱                   ↪\n",
       "↪ ──────────────────────────────────────── - ───────────────────────────────── ↪\n",
       "↪ ________________________________________                                     ↪\n",
       "↪ ________________________                                                     ↪\n",
       "↪                       2                                                      ↪\n",
       "↪                     3⎞                                                       ↪\n",
       "↪ + 9) + 2⋅(β + σ + 1) ⎠                3                                      ↪\n",
       "↪ ──────────────────────── + (β + σ + 1)                                       ↪\n",
       "↪                                                                              ↪\n",
       "\n",
       "↪ ____________________________________________________________________________ ↪\n",
       "↪                                           __________________________________ ↪\n",
       "↪                                          ╱                                   ↪\n",
       "↪                                         ╱      ⎛                             ↪\n",
       "↪         (β⋅r + β⋅σ)⋅(9⋅β + 9⋅σ + 9)   ╲╱   - 4⋅⎝-3⋅β⋅r - 3⋅β⋅σ + (β + σ + 1) ↪\n",
       "↪ 7⋅β⋅σ - ─────────────────────────── + ────────────────────────────────────── ↪\n",
       "↪                      2                                                       ↪\n",
       "↪ ──────────────────────────────────────────────────────────────────────────── ↪\n",
       "↪                                                                   3          ↪\n",
       "↪                                                                              ↪\n",
       "↪                                                                              ↪\n",
       "↪                                                                              ↪\n",
       "↪                                                                              ↪\n",
       "↪                                                                              ↪\n",
       "↪                                                                              ↪\n",
       "\n",
       "↪ ____________________________________________________________________________ ↪\n",
       "↪ __________________________________________________________________________   ↪\n",
       "↪   3                                                                     2    ↪\n",
       "↪ 2⎞    ⎛                                                               3⎞     ↪\n",
       "↪  ⎠  + ⎝54⋅β⋅r⋅σ - 54⋅β⋅σ - (β⋅r + β⋅σ)⋅(9⋅β + 9⋅σ + 9) + 2⋅(β + σ + 1) ⎠     ↪\n",
       "↪ ────────────────────────────────────────────────────────────────────────── + ↪\n",
       "↪                  2                                                           ↪\n",
       "↪ ──────────────────────────────────────────────────────────────────────────── ↪\n",
       "↪                                                                              ↪\n",
       "↪                                                                              ↪\n",
       "↪                                                                              ↪\n",
       "↪                                                                              ↪\n",
       "↪                                                                              ↪\n",
       "↪                                                                              ↪\n",
       "↪                                                                              ↪\n",
       "\n",
       "↪ ______________       ⎫\n",
       "↪                      ⎪\n",
       "↪                      ⎪\n",
       "↪                      ⎪\n",
       "↪             3        ⎪\n",
       "↪  (β + σ + 1)         ⎪\n",
       "↪                  1   ⎪\n",
       "↪ ────────────── - ─: 1⎬\n",
       "↪                  3   ⎪\n",
       "↪                      ⎪\n",
       "↪                      ⎪\n",
       "↪                      ⎪\n",
       "↪                      ⎪\n",
       "↪                      ⎪\n",
       "↪                      ⎭"
      ]
     },
     "execution_count": 24,
     "metadata": {},
     "output_type": "execute_result"
    }
   ],
   "source": [
    "J.subs(zip(X, sol[1])).eigenvals()"
   ]
  },
  {
   "cell_type": "code",
   "execution_count": 27,
   "id": "1996bc0a-6dcd-432e-8aad-bf78c2f48f58",
   "metadata": {},
   "outputs": [],
   "source": [
    "l = Symbol(\"lambda\")"
   ]
  },
  {
   "cell_type": "code",
   "execution_count": 37,
   "id": "3b22e9cf-1539-474f-a1e3-c71625be9fb4",
   "metadata": {},
   "outputs": [
    {
     "data": {
      "text/latex": [
       "$\\displaystyle 2 \\beta r \\sigma - 2 \\beta \\sigma + \\lambda^{3} + \\lambda^{2} \\left(\\beta + \\sigma + 1\\right) + \\lambda \\left(\\beta r + \\beta \\sigma\\right)$"
      ],
      "text/plain": [
       "                   3    2                            \n",
       "2⋅β⋅r⋅σ - 2⋅β⋅σ + λ  + λ ⋅(β + σ + 1) + λ⋅(β⋅r + β⋅σ)"
      ]
     },
     "execution_count": 37,
     "metadata": {},
     "output_type": "execute_result"
    }
   ],
   "source": [
    "J.subs(zip(X, sol[1])).charpoly(l).as_expr()"
   ]
  },
  {
   "cell_type": "code",
   "execution_count": 38,
   "id": "cb20088d-d800-45dd-bb32-ff33303aeafb",
   "metadata": {},
   "outputs": [
    {
     "data": {
      "text/latex": [
       "$\\displaystyle 2 \\beta r \\sigma - 2 \\beta \\sigma + \\lambda^{3} + \\lambda^{2} \\left(\\beta + \\sigma + 1\\right) + \\lambda \\left(\\beta r + \\beta \\sigma\\right)$"
      ],
      "text/plain": [
       "                   3    2                            \n",
       "2⋅β⋅r⋅σ - 2⋅β⋅σ + λ  + λ ⋅(β + σ + 1) + λ⋅(β⋅r + β⋅σ)"
      ]
     },
     "execution_count": 38,
     "metadata": {},
     "output_type": "execute_result"
    }
   ],
   "source": [
    "J.subs(zip(X, sol[2])).charpoly(l).as_expr()"
   ]
  },
  {
   "cell_type": "code",
   "execution_count": 39,
   "id": "4bd2a538-5900-4e81-bdba-a32de7363aa9",
   "metadata": {},
   "outputs": [
    {
     "data": {
      "text/latex": [
       "$\\displaystyle - \\beta r \\sigma + \\beta \\sigma + \\lambda^{3} + \\lambda^{2} \\left(\\beta + \\sigma + 1\\right) + \\lambda \\left(\\beta \\sigma + \\beta - r \\sigma + \\sigma\\right)$"
      ],
      "text/plain": [
       "                3    2                                    \n",
       "-β⋅r⋅σ + β⋅σ + λ  + λ ⋅(β + σ + 1) + λ⋅(β⋅σ + β - r⋅σ + σ)"
      ]
     },
     "execution_count": 39,
     "metadata": {},
     "output_type": "execute_result"
    }
   ],
   "source": [
    "J.subs(zip(X, sol[0])).charpoly(l).as_expr()"
   ]
  },
  {
   "cell_type": "code",
   "execution_count": null,
   "id": "e5471178-5751-4ae5-a4fc-d938e45882b5",
   "metadata": {},
   "outputs": [],
   "source": []
  }
 ],
 "metadata": {
  "kernelspec": {
   "display_name": "Python 3 (ipykernel)",
   "language": "python",
   "name": "python3"
  },
  "language_info": {
   "codemirror_mode": {
    "name": "ipython",
    "version": 3
   },
   "file_extension": ".py",
   "mimetype": "text/x-python",
   "name": "python",
   "nbconvert_exporter": "python",
   "pygments_lexer": "ipython3",
   "version": "3.13.3"
  }
 },
 "nbformat": 4,
 "nbformat_minor": 5
}
