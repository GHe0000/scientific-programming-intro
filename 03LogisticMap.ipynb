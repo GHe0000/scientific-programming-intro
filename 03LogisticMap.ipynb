{
 "cells": [
  {
   "cell_type": "markdown",
   "id": "d06cd0ff-8f9f-494b-bf8c-66bff30db7d4",
   "metadata": {},
   "source": [
    "<h1 style=\"text-align: center;\"> Logistical Map 分叉图</h1>\n",
    "\n",
    "<p style=\"text-align: center;\">2025-9-18</p>\n",
    "\n",
    "课程代码均在如下 GitHub 仓库开源：<https://github.com/GHe0000/scientific-programming-intro>"
   ]
  },
  {
   "cell_type": "markdown",
   "id": "1c8f83d0-2603-4d20-bfb4-cf133a997322",
   "metadata": {
    "jp-MarkdownHeadingCollapsed": true
   },
   "source": [
    "## 目录"
   ]
  },
  {
   "cell_type": "markdown",
   "id": "abf500fb-cce8-4ca5-b22b-c675132185a4",
   "metadata": {},
   "source": [
    "- [1.作业要求](#作业要求)\n",
    "- [2.思路](#思路（问题背景）)\n",
    "- [3.数值计算](#数值计算)\n",
    "- [4.解析计算](#解析计算)\n",
    "- [5.结论](#结论)\n",
    "- [6.参考资料](#参考资料)\n",
    "- [7.致谢](#致谢)\n",
    "- [8.附一：问题](#附一：问题)\n",
    "- [8.附二：学习心得](#附二：学习心得)"
   ]
  },
  {
   "cell_type": "markdown",
   "id": "c9559143-2bf3-49dd-930e-bba09e5bce8b",
   "metadata": {},
   "source": [
    "## 作业要求"
   ]
  },
  {
   "cell_type": "markdown",
   "id": "8b9f2f65-cac2-4bdb-b533-a262fe61cea9",
   "metadata": {
    "execution": {
     "iopub.execute_input": "2025-09-17T14:48:04.713593Z",
     "iopub.status.busy": "2025-09-17T14:48:04.713003Z",
     "iopub.status.idle": "2025-09-17T14:48:04.722814Z",
     "shell.execute_reply": "2025-09-17T14:48:04.721209Z",
     "shell.execute_reply.started": "2025-09-17T14:48:04.713556Z"
    }
   },
   "source": [
    "1. 简洁地补全 Logistical Map 的背景知识\n",
    "2. 探索当 $r$ 分别取 $1$, $3.3$, $3.51$, $3.82842712$, $4$ 时， $x$ 随迭代步数的变化，描述观察到的现象. \n",
    "3. 在整个区间，画出分岔图. "
   ]
  },
  {
   "cell_type": "markdown",
   "id": "d21937a3-f54a-43e3-8256-f591df43d197",
   "metadata": {
    "jp-MarkdownHeadingCollapsed": true
   },
   "source": [
    "##  Logistical Map 背景知识"
   ]
  },
  {
   "cell_type": "markdown",
   "id": "16413608-6ddd-4258-8e7a-9903dc8d3c85",
   "metadata": {
    "jp-MarkdownHeadingCollapsed": true
   },
   "source": [
    "逻辑斯谛映射是一个通过以下迭代方程定义的离散时间动力学系统：\n",
    "\n",
    "$$x_{n+1} = r \\cdot x_n \\cdot (1 - x_n)$$\n",
    "\n",
    "其中：\n",
    "\n",
    "* $x_n$ 是一个介于0和1之间的数，表示在第 $n$ 次迭代时的系统状态（例如，某个物种的数量相对于其最大可能数量的比例）. $x_0$ 是系统的初始状态（$0 \\le x_0 \\le 1$）. \n",
    "* $r$ 是一个正常数，通常取值范围在 $[0, 4]$ 之间. 这个参数控制着系统的行为\n",
    "\n",
    "### 2. 背景与起源\n",
    "\n",
    "这个模型最初由生物学家罗伯特·梅（Robert May）在1976年的一篇极具影响力的《自然》杂志论文中进行推广，并用其来模拟种群的动态演化. \n",
    "\n",
    "* $x_n$：某个物种在第 $n$ 年的数量. 为了简化，这个值被归一化到 $[0, 1]$ 区间，其中0代表种群灭绝，1代表环境能承载的最大种群数量. \n",
    "* $r \\cdot x_n$ 项：这个部分模拟了种群的“繁殖”过程. 当 $r$ 较大且 $x_n$ 较小时，种群数量会倾向于增长. \n",
    "* $(1 - x_n)$ 项：这个部分模拟了“抑制”或“竞争”效应. 当种群数量 $x_n$ 接近最大容量1时，$(1 - x_n)$ 的值会趋近于0，这代表由于资源有限、天敌增多等因素导致的种群数量增长放缓甚至下降. \n",
    "\n",
    "因此，这个简单的公式同时包含了促进增长和抑制增长两个核心因素，这使得它的行为变得非常丰富. \n",
    "\n",
    "### 3. 系统行为与参数 $r$\n",
    "\n",
    "逻辑斯谛映射最引人入胜的特点是，它的长期行为（当 $n$ 趋于无穷大时，$x_n$ 的值）完全依赖于参数 $r$ 的取值. \n",
    "\n",
    "* **当 $0 \\le r < 1$ 时**：无论初始值 $x_0$ 是多少，种群最终都会灭绝，即 $x_n$ 会趋于0. \n",
    "\n",
    "* **当 $1 \\le r < 3$ 时**：系统会演化到一个稳定的不动点. 这意味着经过足够多次迭代后，$x_n$ 的值会固定在某一个数值上. 例如，当 $r=2.5$ 时，系统最终会稳定在 $x=0.6$. \n",
    "\n",
    "* **当 $r \\approx 3.0$ 时**：系统开始出现第一个**分岔（Bifurcation）**. 原本的稳定点变得不再稳定，系统开始在两个值之间来回振荡，形成一个2-周期循环. 这意味着种群数量会在一个“大年”和一个“小年”之间交替. \n",
    "\n",
    "* **当 $r$ 继续增大时**：系统会经历一系列的倍周期分岔（Period-doubling Bifurcation）. 稳定状态会从2-周期变为4-周期，然后是8-周期、16-周期……这个分岔过程发生得越来越快. \n",
    "\n",
    "* **当 $r \\approx 3.56995$ 时**：分岔变得无限密集，系统进入**混沌（Chaos）**状态. 此时，系统的行为呈现出几个关键特征：\n",
    "    * **非周期性**：$x_n$ 的序列看起来是完全随机的，永不重复. \n",
    "    * **对初始条件的敏感依赖性**：两个极其接近的初始值 $x_0$ 和 $x_0 + \\epsilon$（$\\epsilon$ 是一个极小的扰动），在经过少量迭代后，它们的轨迹会迅速分离，变得完全不同. 这就是著名的“蝴蝶效应”. \n",
    "    * **确定性**：尽管行为看起来随机，但它完全是由确定的方程生成的. 只要给定相同的 $r$ 和 $x_0$，每次运行的结果都是完全一样的. \n",
    "\n",
    "* **当 $r > 4$ 时**：对于大部分初始值 $x_0$，系统会很快发散到负无穷大，这在种群模型的背景下没有实际意义. \n",
    "\n",
    "### 4. 费根鲍姆常数（Feigenbaum Constants）\n",
    "\n",
    "在倍周期分岔的过程中，物理学家米切尔·费根鲍姆（Mitchell Feigenbaum）发现了两个普适性的常数. 其中第一个常数 $\\delta$ 描述了相邻分岔点之间距离的比率的极限：\n",
    "\n",
    "$$\\delta = \\lim_{n \\to \\infty} \\frac{r_n - r_{n-1}}{r_{n+1} - r_n} \\approx 4.66920...$$\n",
    "\n",
    "这个常数的惊人之处在于，它不仅适用于逻辑斯谛映射，也适用于其他一大类满足某些条件的非线性映射. 这揭示了从有序到混沌的转变过程背后深层次的普适性规律. \n"
   ]
  },
  {
   "cell_type": "markdown",
   "id": "5351faec-51b2-4357-a31b-269154480777",
   "metadata": {},
   "source": [
    "## 不动点分析"
   ]
  },
  {
   "cell_type": "markdown",
   "id": "0c3fd0d2-9433-4b2d-b955-516266d6d2f0",
   "metadata": {},
   "source": [
    "### 求不动点"
   ]
  },
  {
   "cell_type": "markdown",
   "id": "faafbdcd-2d82-4fb1-94cc-ade82c8a76d2",
   "metadata": {
    "execution": {
     "iopub.execute_input": "2025-09-17T15:06:51.504848Z",
     "iopub.status.busy": "2025-09-17T15:06:51.504389Z",
     "iopub.status.idle": "2025-09-17T15:06:51.512073Z",
     "shell.execute_reply": "2025-09-17T15:06:51.510774Z",
     "shell.execute_reply.started": "2025-09-17T15:06:51.504817Z"
    }
   },
   "source": [
    "对于 Logistic Map：\n",
    "\n",
    "$$ x_{n+1} = r \\cdot x_n \\cdot (1 - x_n) \\tag{1} $$\n",
    "\n",
    "其迭代函数为：\n",
    "\n",
    "$$ f(x) = r x (1-x), \\quad x_{n+1} = f(x_n) \\tag{2}$$\n",
    "\n",
    "记这个迭代函数的不动点为 $x^*$，其满足 $x^* = f(x^*)$，解得：\n",
    "\n",
    "$$ x^*_1 = 0,\\quad x^*_2 = 1-\\frac{1}{r} $$\n",
    "\n",
    "其中由于上述迭代函数自变量取值范围为 $[0,1]$, 因此第二个不动点 $x^*_2$ 只有在 $0\\leq 1-\\frac{1}{r} \\leq 1$ 才有意义，这要求 $r\\geq1$."
   ]
  },
  {
   "cell_type": "markdown",
   "id": "b5e8c7a4-4c2c-46fa-9522-c21160c45d7a",
   "metadata": {
    "jp-MarkdownHeadingCollapsed": true
   },
   "source": [
    "### 不动点的稳定性"
   ]
  },
  {
   "cell_type": "markdown",
   "id": "e44b11b4-bcb5-4417-9352-ee317e7d8272",
   "metadata": {
    "execution": {
     "iopub.execute_input": "2025-09-17T15:15:42.934043Z",
     "iopub.status.busy": "2025-09-17T15:15:42.933519Z",
     "iopub.status.idle": "2025-09-17T15:15:42.942433Z",
     "shell.execute_reply": "2025-09-17T15:15:42.940722Z",
     "shell.execute_reply.started": "2025-09-17T15:15:42.934001Z"
    }
   },
   "source": [
    "根据作业二和课堂上的知识，我们知道不动点的稳定性由迭代函数在该点的导数 $f'\\left(x^*\\right)$ 的绝对值决定. 具体而言\n",
    "- 如果 $\\left| f'\\left( x^* \\right) \\right|<1$，则 $x^*$ 是稳定不动点.\n",
    "- 如果 $\\left| f'\\left( x^* \\right) \\right|>1$，则 $x^*$ 是不稳定不动点.\n",
    "- 如果 $\\left| f'\\left( x^* \\right) \\right|=1$，则 $x^*$ 稳定性需要更高阶的展开来分析.\n",
    "\n",
    "对于 Logistic Map，我们求其迭代函数的一阶导数：\n",
    "\n",
    "$$ f'\\left(x\\right) = r - 2 r x \\tag{3} $$\n",
    "\n",
    "- 对于 $x^*_1 = 0$, 有 $ f'\\left(x^*_1 \\right) = r $，故当 $0 \\leq r < 1$ 时 $x^*_1$ 是稳定不动点. $r > 1$ 时 $x^*_1$ 是不稳定不动点.\n",
    "\n",
    "- 对于 $x^*_2 = 1 - \\frac{1}{r}$，有 $ f'\\left(x^*_2 \\right) =  2 - r$，故当 $1 < r <3$ 时 $x^*_2$ 是不动点. $r < 1$ 或 $r > 3$ 时 $x^*_2$ 是不稳定不动点. \n",
    "\n",
    "当 $r$ 为题目中需要探索的 $r$ 时，$x^*_1$ 和 $x^*_2$ 均是不稳定不动点（$r = 1$ 是分界，两个不动点重合，但其稳定性均需要更高阶的展开来分析）. 因此就上面解析分析我们无法得到此动力学系统在 $r$ 取这些值的情况的渐进行为. 这里我们先通过数值计算的方式进行探索."
   ]
  },
  {
   "cell_type": "markdown",
   "id": "fe01859b-d7b0-4fa5-9cec-ae8983f4724c",
   "metadata": {},
   "source": [
    "## 数值模拟"
   ]
  },
  {
   "cell_type": "markdown",
   "id": "3cac68f2-dd51-4cb8-974f-75808eccd891",
   "metadata": {},
   "source": [
    "### 计算前准备"
   ]
  },
  {
   "cell_type": "markdown",
   "id": "4f05553d-5b33-4f52-8147-077bd2c486b4",
   "metadata": {},
   "source": [
    "导入需要的库，并针对 Jupyter Notebook 进行一些设置."
   ]
  },
  {
   "cell_type": "code",
   "execution_count": 1,
   "id": "00371894-c82e-43f0-b094-a26ce2ef0d2c",
   "metadata": {
    "execution": {
     "iopub.execute_input": "2025-09-17T16:14:57.989173Z",
     "iopub.status.busy": "2025-09-17T16:14:57.988811Z",
     "iopub.status.idle": "2025-09-17T16:15:00.116741Z",
     "shell.execute_reply": "2025-09-17T16:15:00.115563Z",
     "shell.execute_reply.started": "2025-09-17T16:14:57.989140Z"
    }
   },
   "outputs": [],
   "source": [
    "import numpy as np # 数值计算库\n",
    "import numba as nb # 引入 jit 来加速函数（如果需要）\n",
    "import sympy as sym # 符号计算库\n",
    "import matplotlib.pyplot as plt # 图像绘制\n",
    "from matplotlib.backends.backend_agg import FigureCanvasAgg # 设置图像后端用\n",
    "import ipywidgets as ipw # 交互控件\n",
    "from IPython.display import display, Math # 打印数学公式\n",
    "\n",
    "# 设置随机数种子确保结果的可复现性\n",
    "np.random.seed(3407)\n",
    "\n",
    "# 使用 mathjax 来在 jupyter notebook 显示数学公式\n",
    "sym.init_printing(use_latex='mathjax')\n",
    "\n",
    "# 设置 matplotlib 绘制的图像嵌入到 jupyter notebook 的方式\n",
    "%matplotlib widget\n",
    "\n",
    "# 一个工具函数，可以让静态图片不经过 widget 直接嵌入 Jupyter notebook\n",
    "# 这样图片可以直接存到 nb 文件里，而不是需要运行才能显示（类似 inline）\n",
    "def display_inline(fig):\n",
    "    fig.set_canvas(FigureCanvasAgg(fig))\n",
    "    display(fig)\n",
    "\n",
    "# 设置 matplotlib 使用的字体，避免出现中文问题\n",
    "plt.rcParams['font.family'] = ['SimSun', 'Times New Roman']\n",
    "plt.rcParams['mathtext.fontset'] = 'cm'\n",
    "\n",
    "# 其他需要的库\n",
    "import functools"
   ]
  },
  {
   "cell_type": "markdown",
   "id": "afbf0e8d-757f-4dc2-a683-d8a9d7c50ee4",
   "metadata": {},
   "source": [
    "这里我们根据式(2)写出 Logistic Map 的迭代函数："
   ]
  },
  {
   "cell_type": "code",
   "execution_count": 2,
   "id": "fc5606d8-70ff-45b2-a881-f489656f8915",
   "metadata": {
    "execution": {
     "iopub.execute_input": "2025-09-17T16:15:00.118328Z",
     "iopub.status.busy": "2025-09-17T16:15:00.117812Z",
     "iopub.status.idle": "2025-09-17T16:15:00.123717Z",
     "shell.execute_reply": "2025-09-17T16:15:00.122183Z",
     "shell.execute_reply.started": "2025-09-17T16:15:00.118293Z"
    }
   },
   "outputs": [],
   "source": [
    "logistic_map = lambda r,x : r*x*(1-x)"
   ]
  },
  {
   "cell_type": "markdown",
   "id": "4b5f1204-3ea3-4acc-8951-365e0487fb68",
   "metadata": {
    "execution": {
     "iopub.execute_input": "2025-09-17T15:41:42.135646Z",
     "iopub.status.busy": "2025-09-17T15:41:42.135172Z",
     "iopub.status.idle": "2025-09-17T15:41:42.144825Z",
     "shell.execute_reply": "2025-09-17T15:41:42.142608Z",
     "shell.execute_reply.started": "2025-09-17T15:41:42.135608Z"
    }
   },
   "source": [
    "另外，从前面两次作业和课堂上我们知道，分析这种迭代函数的一个非常好用的方式就是通过**蛛网图**，具体而言，对于迭代方程 $x_{n+1} = f(x_n)$，绘制蛛网图的过程为：\n",
    "\n",
    "1. 绘制 $x_{n+1} = f(x_n)$ 和 $x_{n+1}=x_n$ 的函数图像\n",
    "2. 对于给定的初始值 $x_0$，$(x_0,x_0)$ 作为起始点\n",
    "3. 做垂线交 $f(x_n)$ 于新的一点，这一步表示 $x_{n+1}$ 设为 $f(x_n)$\n",
    "4. 在第三步交点做水平线交 $x_{n+1}=x_n$ 与新的一点，这一步表示旧的 $x_{n+1}$ 将作为新的 $f(x)$ 的自变量\n",
    "5. 重复三、四步，直至达到指定的次数 $n$\n",
    "\n",
    "这里考虑到蛛网图会在后面以及可能的之后的作业重复使用，这里将前面作业的代码封装成一个函数."
   ]
  },
  {
   "cell_type": "code",
   "execution_count": 3,
   "id": "166357a2-b747-4da5-a95c-01d57dbf0059",
   "metadata": {
    "execution": {
     "iopub.execute_input": "2025-09-17T16:15:00.125457Z",
     "iopub.status.busy": "2025-09-17T16:15:00.124983Z",
     "iopub.status.idle": "2025-09-17T16:15:00.134507Z",
     "shell.execute_reply": "2025-09-17T16:15:00.133487Z",
     "shell.execute_reply.started": "2025-09-17T16:15:00.125430Z"
    }
   },
   "outputs": [],
   "source": [
    "def plot_cobweb(ax, map_func, x_range, x_n, x0, n):\n",
    "    '''\n",
    "    绘制迭代方程 map_func 的蛛网图\n",
    "\n",
    "    参数：\n",
    "    ax: maplotlib.axes\n",
    "        需要绘制的轴对象\n",
    "    map_func: callable\n",
    "        迭代函数，只有一个自变量\n",
    "    x_range: (x_min, x_max)\n",
    "        需要绘制的范围\n",
    "    x_n: int 或 float\n",
    "        采样点数量\n",
    "    x0: float\n",
    "        迭代初始值\n",
    "    n: int 或 float\n",
    "        迭代次数\n",
    "\n",
    "    返回：\n",
    "    ax: maplotlib.axes\n",
    "        绘制的轴对象\n",
    "    '''\n",
    "    n = int(n)\n",
    "    x_arr = np.arange(x_range[0], x_range[1], int(x_n))\n",
    "    path = np.zeros((2*n+1, 2))\n",
    "    path[0] = np.array([x0, x0])\n",
    "    xp = x0\n",
    "    for i in range(n):\n",
    "        path[2*n+1] = np.array([xp, map_func(xp)])\n",
    "        xp = map_func(xp)\n",
    "        path[2*n+2] = np.array([xp, xp])\n",
    "    ax.plot(x_arr, x_arr, label=\"$x_{n+1}=x_n$\")\n",
    "    ax.plot(x_arr, map_func(x_arr), label=\"$x_{n+1}=f(x_n)$\")\n",
    "    ax.plot(path[:,0], path[:,1], '--o', markersize=4, label=\"迭代过程\")\n",
    "    return ax"
   ]
  },
  {
   "cell_type": "markdown",
   "id": "e264dad1-2f95-42d7-8b6f-9152e58ad1ee",
   "metadata": {},
   "source": [
    "### $r=1$"
   ]
  },
  {
   "cell_type": "markdown",
   "id": "b14db1f0-be28-47f8-a64b-2295ef97c66d",
   "metadata": {},
   "source": [
    "现在我们来探索 $r=1$ 的情况，迭代的初始值 $x_0$ 先取个特殊值看看情况（取 $x_0=0.5$，$n=50$）："
   ]
  },
  {
   "cell_type": "code",
   "execution_count": 20,
   "id": "5aa665a4-e527-45d0-a801-e825c8099a77",
   "metadata": {
    "execution": {
     "iopub.execute_input": "2025-09-17T16:23:01.170051Z",
     "iopub.status.busy": "2025-09-17T16:23:01.169349Z",
     "iopub.status.idle": "2025-09-17T16:23:01.510271Z",
     "shell.execute_reply": "2025-09-17T16:23:01.509109Z",
     "shell.execute_reply.started": "2025-09-17T16:23:01.170006Z"
    }
   },
   "outputs": [
    {
     "data": {
      "image/png": "[encoded data removed]",
      "text/plain": [
       "<Figure size 800x600 with 1 Axes>"
      ]
     },
     "metadata": {},
     "output_type": "display_data"
    },
    {
     "data": {
      "text/plain": [
       "<matplotlib.backends.backend_agg.FigureCanvasAgg at 0x20973b4ef90>"
      ]
     },
     "metadata": {},
     "output_type": "display_data"
    }
   ],
   "source": [
    "r = 1\n",
    "x0 = 0.5\n",
    "n = 50\n",
    "\n",
    "n_arr = np.arange(n+1)\n",
    "xn_arr = np.zeros_like(n_arr, dtype=np.float64)\n",
    "xn_arr[0] = x0\n",
    "for i in range(n):\n",
    "    xn_arr[i+1] = logistic_map(r, xn_arr[i])\n",
    "fig, ax = plt.subplots(figsize=(8,6))\n",
    "ax.plot(n_arr, xn_arr, 'k--o', label=\"$x_n$\")\n",
    "ax.set_xlabel(\"$n$\")\n",
    "ax.set_xticks(n_arr[n_arr%2==0])\n",
    "ax.set_ylabel(\"$x_n$\")\n",
    "ax.set_title(f\"$x_n$ 随 $n$ 变化过程 ($x_0=${x0:.3f}, $r$={r:.3f}, $n$={n})\")\n",
    "ax.axhline(xn_arr[-1], color='r', linestyle=':', label=f\"收敛值:{xn_arr[-1]:.3f}\")\n",
    "ax.text(35, 0.05, f\"收敛值：{xn_arr[-1]:.6f}\", color='r', size=12)\n",
    "ax.grid()\n",
    "ax.legend()\n",
    "\n",
    "display_inline(fig)"
   ]
  },
  {
   "cell_type": "markdown",
   "id": "0fd7a81e-5f8b-4ef5-a315-d4f66181edf7",
   "metadata": {
    "execution": {
     "iopub.execute_input": "2025-09-17T16:27:52.098135Z",
     "iopub.status.busy": "2025-09-17T16:27:52.097839Z",
     "iopub.status.idle": "2025-09-17T16:27:52.106475Z",
     "shell.execute_reply": "2025-09-17T16:27:52.105144Z",
     "shell.execute_reply.started": "2025-09-17T16:27:52.098105Z"
    }
   },
   "source": [
    "看起来会收敛到 $0$, 但是收敛速度比较慢，这里我们增大 $n$ 试试："
   ]
  },
  {
   "cell_type": "code",
   "execution_count": 28,
   "id": "86e702ea-dddb-40ce-bbd2-7183751f83c0",
   "metadata": {
    "execution": {
     "iopub.execute_input": "2025-09-17T16:30:02.283133Z",
     "iopub.status.busy": "2025-09-17T16:30:02.282756Z",
     "iopub.status.idle": "2025-09-17T16:30:02.630091Z",
     "shell.execute_reply": "2025-09-17T16:30:02.629007Z",
     "shell.execute_reply.started": "2025-09-17T16:30:02.283105Z"
    }
   },
   "outputs": [
    {
     "data": {
      "image/png": "[encoded data removed]",
      "text/plain": [
       "<Figure size 800x600 with 1 Axes>"
      ]
     },
     "metadata": {},
     "output_type": "display_data"
    },
    {
     "data": {
      "text/plain": [
       "<matplotlib.backends.backend_agg.FigureCanvasAgg at 0x20976f110d0>"
      ]
     },
     "metadata": {},
     "output_type": "display_data"
    }
   ],
   "source": [
    "r = 1\n",
    "x0 = 0.5\n",
    "n = 100\n",
    "\n",
    "n_arr = np.arange(n+1)\n",
    "xn_arr = np.zeros_like(n_arr, dtype=np.float64)\n",
    "xn_arr[0] = x0\n",
    "for i in range(n):\n",
    "    xn_arr[i+1] = logistic_map(r, xn_arr[i])\n",
    "fig, ax = plt.subplots(figsize=(8,6))\n",
    "ax.plot(n_arr, xn_arr, 'k--o', label=\"$x_n$\")\n",
    "ax.set_xlabel(\"$n$\")\n",
    "ax.set_xticks(n_arr[n_arr%5==0])\n",
    "ax.set_ylabel(\"$x_n$\")\n",
    "ax.set_title(f\"$x_n$ 随 $n$ 变化过程 ($x_0=${x0:.3f}, $r$={r:.3f}, $n$={n})\")\n",
    "ax.axhline(xn_arr[-1], color='r', linestyle=':', label=f\"收敛值:{xn_arr[-1]:.3f}\")\n",
    "ax.text(75, 0.05, f\"收敛值：{xn_arr[-1]:.6f}\", color='r', size=12)\n",
    "ax.grid()\n",
    "ax.legend()\n",
    "\n",
    "display_inline(fig)"
   ]
  },
  {
   "cell_type": "markdown",
   "id": "e78f4c51-dff9-4240-9344-462853dac389",
   "metadata": {},
   "source": [
    "看上去确实会收敛到 $0$, 只是收敛速度比较慢. 猜测这可能是因为其 $|f'(0)|=1$ 导致的，毕竟 $r=1$ 时 $x^*_1=x^*_2=0$ 的稳定性需要更高阶导数决定. 之后需要给出解析计算. "
   ]
  },
  {
   "cell_type": "markdown",
   "id": "51881d36-b15e-4638-bcb5-93085956ca60",
   "metadata": {},
   "source": [
    "这里先探寻这个收敛值是否和迭代的初始值有关，在 $[0,1]$ 内均匀取 $10$ 个点作为 $x_0$，绘制迭代过程："
   ]
  },
  {
   "cell_type": "markdown",
   "id": "9f997665-d03d-48d8-ba65-c67ba341ac6a",
   "metadata": {
    "execution": {
     "iopub.execute_input": "2025-09-17T16:24:06.850421Z",
     "iopub.status.busy": "2025-09-17T16:24:06.850136Z",
     "iopub.status.idle": "2025-09-17T16:24:06.855323Z",
     "shell.execute_reply": "2025-09-17T16:24:06.854243Z",
     "shell.execute_reply.started": "2025-09-17T16:24:06.850397Z"
    }
   },
   "source": [
    "### $r=3.3$"
   ]
  },
  {
   "cell_type": "markdown",
   "id": "2317119b-ed35-436d-a9c7-1df4ebaa917d",
   "metadata": {
    "execution": {
     "iopub.execute_input": "2025-09-17T16:24:26.604421Z",
     "iopub.status.busy": "2025-09-17T16:24:26.604157Z",
     "iopub.status.idle": "2025-09-17T16:24:26.609425Z",
     "shell.execute_reply": "2025-09-17T16:24:26.608340Z",
     "shell.execute_reply.started": "2025-09-17T16:24:26.604405Z"
    }
   },
   "source": [
    "### $r=3.51$"
   ]
  },
  {
   "cell_type": "markdown",
   "id": "e526ffb1-3f24-49b8-9ba6-d082df2ad00a",
   "metadata": {
    "execution": {
     "iopub.execute_input": "2025-09-17T16:24:44.566347Z",
     "iopub.status.busy": "2025-09-17T16:24:44.565865Z",
     "iopub.status.idle": "2025-09-17T16:24:44.571297Z",
     "shell.execute_reply": "2025-09-17T16:24:44.570057Z",
     "shell.execute_reply.started": "2025-09-17T16:24:44.566320Z"
    }
   },
   "source": [
    "### $r=3.82842712$"
   ]
  },
  {
   "cell_type": "markdown",
   "id": "d036b064-2501-4eb3-80d4-aba10729feeb",
   "metadata": {
    "execution": {
     "iopub.execute_input": "2025-09-17T16:25:00.115022Z",
     "iopub.status.busy": "2025-09-17T16:25:00.114339Z",
     "iopub.status.idle": "2025-09-17T16:25:00.120823Z",
     "shell.execute_reply": "2025-09-17T16:25:00.119830Z",
     "shell.execute_reply.started": "2025-09-17T16:25:00.114979Z"
    }
   },
   "source": [
    "### $r=4$"
   ]
  },
  {
   "cell_type": "markdown",
   "id": "17cf2ffb-2335-488b-8fcd-478addd36891",
   "metadata": {
    "execution": {
     "iopub.execute_input": "2025-09-17T14:54:19.328426Z",
     "iopub.status.busy": "2025-09-17T14:54:19.328015Z",
     "iopub.status.idle": "2025-09-17T14:54:19.334133Z",
     "shell.execute_reply": "2025-09-17T14:54:19.332590Z",
     "shell.execute_reply.started": "2025-09-17T14:54:19.328398Z"
    }
   },
   "source": [
    "## Logistic Map 的分叉图"
   ]
  },
  {
   "cell_type": "markdown",
   "id": "bed43ceb-03a0-45f3-bbd8-d6cd87797e38",
   "metadata": {},
   "source": [
    "## Logistic Map 的分叉图的性质"
   ]
  },
  {
   "cell_type": "markdown",
   "id": "4d0773f9-f423-43c7-8a3b-f78b4c722129",
   "metadata": {},
   "source": [
    "## 结论"
   ]
  },
  {
   "cell_type": "markdown",
   "id": "b41b61eb-ddbe-43bb-babd-00703deef817",
   "metadata": {},
   "source": [
    "## 参考资料"
   ]
  },
  {
   "cell_type": "markdown",
   "id": "1a46b53a-210a-4248-8166-f6a7112ca8f6",
   "metadata": {},
   "source": [
    "## 致谢"
   ]
  },
  {
   "cell_type": "markdown",
   "id": "4ae6954a-76b0-42c4-beed-cf5e98936091",
   "metadata": {},
   "source": [
    "## 附一：问题"
   ]
  },
  {
   "cell_type": "markdown",
   "id": "5379bdb2-ecff-4e0b-a1b7-f74428cb8b04",
   "metadata": {},
   "source": [
    "## 附二：学习心得"
   ]
  }
 ],
 "metadata": {
  "kernelspec": {
   "display_name": "Python 3 (ipykernel)",
   "language": "python",
   "name": "python3"
  },
  "language_info": {
   "codemirror_mode": {
    "name": "ipython",
    "version": 3
   },
   "file_extension": ".py",
   "mimetype": "text/x-python",
   "name": "python",
   "nbconvert_exporter": "python",
   "pygments_lexer": "ipython3",
   "version": "3.13.5"
  }
 },
 "nbformat": 4,
 "nbformat_minor": 5
}
