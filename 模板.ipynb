{
 "cells": [
  {
   "cell_type": "markdown",
   "id": "d06cd0ff-8f9f-494b-bf8c-66bff30db7d4",
   "metadata": {},
   "source": [
    "<h1 style=\"text-align: center;\">文章标题</h1>\n",
    "\n",
    "<p style=\"text-align: center;\">2025-9-5</p>\n",
    "\n",
    "课程代码均在如下 GitHub 仓库开源：<https://github.com/GHe0000/scientific-programming-intro>"
   ]
  },
  {
   "cell_type": "markdown",
   "id": "abf500fb-cce8-4ca5-b22b-c675132185a4",
   "metadata": {},
   "source": [
    "## 目录"
   ]
  },
  {
   "cell_type": "markdown",
   "id": "3cac68f2-dd51-4cb8-974f-75808eccd891",
   "metadata": {},
   "source": [
    "### 计算前准备"
   ]
  },
  {
   "cell_type": "markdown",
   "id": "4f05553d-5b33-4f52-8147-077bd2c486b4",
   "metadata": {},
   "source": [
    "导入需要的库，并针对 Jupyter Notebook 进行一些设置."
   ]
  },
  {
   "cell_type": "code",
   "execution_count": 1,
   "id": "00371894-c82e-43f0-b094-a26ce2ef0d2c",
   "metadata": {},
   "outputs": [],
   "source": [
    "import numpy as np # 数值计算库\n",
    "import numba as nb # 引入 jit 来加速函数（如果需要）\n",
    "import sympy as sym # 符号计算库\n",
    "import matplotlib.pyplot as plt # 图像绘制\n",
    "import ipywidgets as ipw # 交互控件\n",
    "\n",
    "# 使用 mathjax 来在 jupyter notebook 显示数学公式\n",
    "sym.init_printing(use_latex='mathjax')\n",
    "\n",
    "# 设置 matplotlib 绘制的图像嵌入到 jupyter notebook 的方式\n",
    "%matplotlib widget\n",
    "\n",
    "# 设置 matplotlib 使用的字体，避免出现中文问题\n",
    "plt.rcParams['font.sans-serif'] = ['SimHei']\n",
    "plt.rcParams['axes.unicode_minus'] = False"
   ]
  },
  {
   "cell_type": "code",
   "execution_count": null,
   "id": "d7260ea1-41fc-4507-bec3-29cac03c178e",
   "metadata": {},
   "outputs": [],
   "source": []
  }
 ],
 "metadata": {
  "kernelspec": {
   "display_name": "Python 3 (ipykernel)",
   "language": "python",
   "name": "python3"
  },
  "language_info": {
   "codemirror_mode": {
    "name": "ipython",
    "version": 3
   },
   "file_extension": ".py",
   "mimetype": "text/x-python",
   "name": "python",
   "nbconvert_exporter": "python",
   "pygments_lexer": "ipython3",
   "version": "3.13.3"
  }
 },
 "nbformat": 4,
 "nbformat_minor": 5
}
