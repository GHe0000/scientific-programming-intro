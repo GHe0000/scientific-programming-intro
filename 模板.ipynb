{
 "cells": [
  {
   "cell_type": "markdown",
   "id": "d06cd0ff-8f9f-494b-bf8c-66bff30db7d4",
   "metadata": {},
   "source": [
    "# 标题"
   ]
  },
  {
   "cell_type": "markdown",
   "id": "3cac68f2-dd51-4cb8-974f-75808eccd891",
   "metadata": {},
   "source": [
    "### 导入相关的库"
   ]
  },
  {
   "cell_type": "code",
   "execution_count": 1,
   "id": "00371894-c82e-43f0-b094-a26ce2ef0d2c",
   "metadata": {},
   "outputs": [],
   "source": [
    "import numpy as np # 数值计算库\n",
    "import numba as nb # 引入 jit 来加速函数\n",
    "import sympy as sym # 符号计算库\n",
    "import matplotlib.pyplot as plt # 图像绘制\n",
    "import ipywidgets as widgets # 交互控件\n",
    "\n",
    "# 使用 mathjax 来在 jupyter notebook 显示数学公式\n",
    "sym.init_printing(use_latex='mathjax')\n",
    "\n",
    "# 设置 matplotlib 绘制的图像嵌入到 jupyter notebook\n",
    "%matplotlib inline\n",
    "\n",
    "# 设置 matplotlib 使用的字体，这里需要额外下载思源黑体\n",
    "plt.rcParams['font.sans-serif'] = ['Source Han Sans CN']"
   ]
  },
  {
   "cell_type": "code",
   "execution_count": null,
   "id": "d7260ea1-41fc-4507-bec3-29cac03c178e",
   "metadata": {},
   "outputs": [],
   "source": []
  }
 ],
 "metadata": {
  "kernelspec": {
   "display_name": "Python 3 (ipykernel)",
   "language": "python",
   "name": "python3"
  },
  "language_info": {
   "codemirror_mode": {
    "name": "ipython",
    "version": 3
   },
   "file_extension": ".py",
   "mimetype": "text/x-python",
   "name": "python",
   "nbconvert_exporter": "python",
   "pygments_lexer": "ipython3",
   "version": "3.13.3"
  }
 },
 "nbformat": 4,
 "nbformat_minor": 5
}
